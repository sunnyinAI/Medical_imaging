{
 "cells": [
  {
   "cell_type": "code",
   "execution_count": 3,
   "metadata": {},
   "outputs": [],
   "source": [
    "import os\n",
    "import pydicom\n",
    "from PIL import Image\n",
    "\n",
    "# Set the path to the DICOM image folder\n",
    "folder_path = '/home/sunny/Desktop/VAFL/rsnaPneu/test'\n",
    "\n",
    "# Loop through all DICOM images in the folder\n",
    "for filename in os.listdir(folder_path):\n",
    "    if filename.endswith('.dcm'):\n",
    "        # Load the DICOM image\n",
    "        ds = pydicom.dcmread(os.path.join(folder_path, filename))\n",
    "\n",
    "        # Convert the pixel array to a Pillow image\n",
    "        image = Image.fromarray(ds.pixel_array)\n",
    "\n",
    "        # Save the image as a JPEG file\n",
    "        image.save(os.path.join(folder_path, filename.replace('.dcm', '.jpg')))"
   ]
  }
 ],
 "metadata": {
  "kernelspec": {
   "display_name": "Python 3",
   "language": "python",
   "name": "python3"
  },
  "language_info": {
   "codemirror_mode": {
    "name": "ipython",
    "version": 3
   },
   "file_extension": ".py",
   "mimetype": "text/x-python",
   "name": "python",
   "nbconvert_exporter": "python",
   "pygments_lexer": "ipython3",
   "version": "3.10.12"
  }
 },
 "nbformat": 4,
 "nbformat_minor": 2
}
